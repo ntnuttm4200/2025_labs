{
 "cells": [
  {
   "cell_type": "markdown",
   "id": "57f3ae01",
   "metadata": {},
   "source": [
    "# Lab10 -- Security in Computer  Networks (Part 2)\n",
    "\n",
    "## Introduction\n",
    "\n",
    "This lab aims to introduce you to security mechanisms used in computer networks. \n",
    "You will set up and analyze a VPN for secure network tunneling and a digital signature for sender authentication and message integrity.\n",
    "\n",
    "For the final lab submission, provide a PDF report with answers to the questions labeled **REPORT** from labs 9 and 10. Questions marked with **Bonus** or **Extra** are optional.\n",
    "\n",
    "\n",
    "## Lab Setup\n",
    "\n",
    "[Figure 1](#figure_1) shows the setup for this lab.\n",
    "You will set up a VPN to establish a secure tunnel between the two private networks.\n",
    "\n",
    "\n",
    "<a id='figure_1'></a>\n",
    "\n",
    "|<img src=\"figures/lab9.png\" />|\n",
    "|:--:| \n",
    "| *Figure 1: Labs 9 and 10 System Setup* |\n",
    "\n",
    "\n",
    "- You can **open the GNS3 project from lab9** to view the topology, access the containers, and start packet captures. You can still use `docker attach` in your VM in order to access the containers, as long as the topology is started in GNS3."
   ]
  },
  {
   "cell_type": "code",
   "execution_count": null,
   "id": "8ab31cda",
   "metadata": {},
   "outputs": [],
   "source": [
    "from test_lab10 import TestLab10\n",
    "check_progress = TestLab10()"
   ]
  },
  {
   "cell_type": "markdown",
   "id": "46aa4653",
   "metadata": {},
   "source": [
    "# Milestone 1 -- Virtual Private Network (VPN)\n",
    "\n",
    "\n",
    "To establish a protected network over a public internet connection, we can set up a VPN to encrypt the traffic and allow access to services on private networks. For example, the \"Openstack\" VMs are only accessible via NTNU private network, and you had to set up a VPN connection to access them.\n",
    "\n",
    "This lab will use WireGuard, free and open-source VPN software, which it is faster, simpler, and more efficient than IPsec and OpenVPN. It is already installed in all containers of this lab. You __must__ read this [page](https://www.wireguard.com/) (<https://www.wireguard.com/>) to get a conceptual overview of WireGuard.\n",
    "\n",
    "\n",
    "* First, remove port forwarding from __\"router0\"__ to prevent external access to internal resources in \"ttm4200_private_net\":"
   ]
  },
  {
   "cell_type": "markdown",
   "id": "06ab1a27",
   "metadata": {},
   "source": [
    "<div style=\"background: #f8f8f8; overflow:auto;width:auto;border:solid gray;border-width:.1em .1em .1em .8em;padding:.2em .6em;\"><pre style=\"margin: 0; line-height: 125%;color: black;\">sudo nft flush ruleset</pre></div>\n"
   ]
  },
  {
   "cell_type": "markdown",
   "id": "96e6262f",
   "metadata": {},
   "source": [
    "* In __\"pclient2\"__, verify that you can __not__ access the webserver:"
   ]
  },
  {
   "cell_type": "markdown",
   "id": "bacac7a1",
   "metadata": {},
   "source": [
    "\n",
    "<div style=\"background: #f8f8f8; overflow:auto;width:auto;border:solid gray;border-width:.1em .1em .1em .8em;padding:.2em .6em;\"><pre style=\"margin: 0; line-height: 125%;color: black;\">wget https://129.168.1.2 --header \"Host: www.ttm4200.com\" --no-check-certificate<br><br>wget https://10.20.30.3 --header \"Host: www.ttm4200.com\" --no-check-certificate\n",
    "</pre></div>"
   ]
  },
  {
   "cell_type": "code",
   "execution_count": null,
   "id": "24660984",
   "metadata": {},
   "outputs": [],
   "source": [
    "check_progress.test_1_0()"
   ]
  },
  {
   "cell_type": "markdown",
   "id": "0c9e5f89",
   "metadata": {},
   "source": [
    "## Task 1.1 -- VPN Setup: WireGuard\n",
    "\n",
    "In the following steps, you will establish a VPN connection from __\"pclient2\"__ (WireGuard client) to __\"router0\"__ (WireGuard server). \n",
    "Refer back to [Figure 1](#figure_1):\n",
    "\n",
    "\n",
    "* Generate public and private keys for both the sever (__\"router0\"__) and the client (__\"pclient2\"__) (i.e., these commands need to be executed in both containers):"
   ]
  },
  {
   "cell_type": "markdown",
   "id": "33c5baa6",
   "metadata": {},
   "source": [
    "<div style=\"background: #f8f8f8; overflow:auto;width:auto;border:solid gray;border-width:.1em .1em .1em .8em;padding:.2em .6em;\"><pre style=\"margin: 0; line-height: 125%;color: black;\">umask 077<br>wg genkey | tee privatekey | wg pubkey > publickey\n",
    "</pre></div>"
   ]
  },
  {
   "cell_type": "markdown",
   "id": "06857b8c",
   "metadata": {},
   "source": [
    "> More information about the command (<https://man7.org/linux/man-pages/man8/wg.8.html>):\n",
    ">\n",
    "> __- [umask 077](https://en.wikipedia.org/wiki/Umask)__: Set file permission for newly created files to only the user has \"read,\" \"write,\" and \"execute\" permissions (completely private).\n",
    ">\n",
    "> __- wg genkey__: Generates a random private key in base64.\n",
    ">\n",
    "> __- | tee privatekey__: Read the output of the generated private key and write it to a file named \"privatekey\" .\n",
    ">\n",
    ">__- | wg pubkey > publickey__: Calculates a public key from the corresponding private key and write it to a file named \"publickey\"\n",
    "\n",
    "\n",
    "* In the server (__\"router0\"__), create a configuration file \"/etc/wireguard/wg0.conf\", and add the following lines:"
   ]
  },
  {
   "cell_type": "markdown",
   "id": "5caffd23",
   "metadata": {},
   "source": [
    "<div style=\"background: #f8f8f8; overflow:auto;width:auto;border:solid gray;border-width:.1em .1em .1em .8em;padding:.2em .6em;\"><pre style=\"margin: 0; line-height: 125%;color: black;\">\n",
    "[Interface]\n",
    "PrivateKey = &lt;Private key of \"router0\"&gt;\n",
    "<span style=\"color: #408080; font-style: italic\">#We will use a VPN subnet of 10.20.30.128/25, use 10.20.30.130 for the server and 10.20.30.131 for the client.</span>\n",
    "Address = 10.20.30.130/25\n",
    "<span style=\"color: #408080; font-style: italic\">#Standard port for WireGuard (optional)</span>\n",
    "ListenPort = 51820\n",
    "<span style=\"color: #408080; font-style: italic\">#Accept every packet on the tunnel interface, and masquerade outgoing packets with a public IP</span>\n",
    "PostUp = iptables -A FORWARD -i wg0 -j ACCEPT \n",
    "PostUP = iptables -t nat -A POSTROUTING -o ether1 -j MASQUERADE\n",
    "<span style=\"color: #408080; font-style: italic\">#Delete the NAT rule when removing the VPN</span>\n",
    "PostDown = iptables -D FORWARD -i wg0 -j ACCEPT\n",
    "PostDown = iptables -t nat -D POSTROUTING -o ether1 -j MASQUERADE\n",
    "\n",
    "[Peer]\n",
    "PublicKey = &lt;Public key of \"pclient2\"&gt;\n",
    "AllowedIPs = 10.20.30.131\n",
    "<span style=\"color: #408080; font-style: italic\">#Send a keepalive packet every 25 seconds</span>\n",
    "PersistentKeepalive = 25\n",
    "</pre></div>"
   ]
  },
  {
   "cell_type": "markdown",
   "id": "84d66563",
   "metadata": {},
   "source": [
    "<div class=\"alert alert-block alert-info\">\n",
    "<b>Hint:</b> you can run <b>cat privatekey</b>, then copy the key and paste it into the config file. \n",
    "The same goes for the publickey </div>\n",
    "\n",
    "* In the client (__\"pclient2\"__), create a configuration file \"/etc/wireguard/wg0.conf\", and add the following lines:"
   ]
  },
  {
   "cell_type": "markdown",
   "id": "3e3434fb",
   "metadata": {},
   "source": [
    "<div style=\"background: #f8f8f8; overflow:auto;width:auto;border:solid gray;border-width:.1em .1em .1em .8em;padding:.2em .6em;\"><pre style=\"margin: 0; line-height: 125%;color: black;\">\n",
    "[Interface]\n",
    "PrivateKey = &lt;Private key of \"pclient2\"&gt;\n",
    "Address = 10.20.30.131/25<br><br>\n",
    "[Peer]\n",
    "PublicKey = &lt;Public key of \"router0\"&gt;\n",
    "<span style=\"color: #408080; font-style: italic\">#Public ip address of the server \"router0\" and ListenPort</span>\n",
    "Endpoint = 129.168.1.2:51820\n",
    "<span style=\"color: #408080; font-style: italic\">#Route all traffic with destination IP address in the subnet of (10.20.30.0/24) through this Wireguard tunnel</span>\n",
    "AllowedIPs = 10.20.30.0/24\n",
    "</pre></div>"
   ]
  },
  {
   "cell_type": "markdown",
   "id": "6c93f0cd",
   "metadata": {},
   "source": [
    "* Bring up the WireGuard tunnel interface, in __both__ the server and the client:"
   ]
  },
  {
   "cell_type": "markdown",
   "id": "1bfd2e63",
   "metadata": {},
   "source": [
    "\n",
    "   <div style=\"background: #f8f8f8; overflow:auto;width:auto;border:solid gray;border-width:.1em .1em .1em .8em;padding:.2em .6em;\"><pre style=\"margin: 0; line-height: 125%;color: black;\">sudo wg-quick up /etc/wireguard/wg0.conf</pre></div>\n"
   ]
  },
  {
   "cell_type": "markdown",
   "id": "e67ecdad",
   "metadata": {},
   "source": [
    "* Verify that there is a new interface \"wg0\" added:"
   ]
  },
  {
   "cell_type": "markdown",
   "id": "9f43caa2",
   "metadata": {},
   "source": [
    "   <div style=\"background: #f8f8f8; overflow:auto;width:auto;border:solid gray;border-width:.1em .1em .1em .8em;padding:.2em .6em;\"><pre style=\"margin: 0; line-height: 125%;color: black;\">ip address</pre></div>"
   ]
  },
  {
   "cell_type": "markdown",
   "id": "ca504c70",
   "metadata": {},
   "source": [
    "* Ensure that the default route in __\"webserver\"__ is `10.20.30.100`:"
   ]
  },
  {
   "cell_type": "markdown",
   "id": "91763167",
   "metadata": {},
   "source": [
    "   <div style=\"background: #f8f8f8; overflow:auto;width:auto;border:solid gray;border-width:.1em .1em .1em .8em;padding:.2em .6em;\"><pre style=\"margin: 0; line-height: 125%;color: black;\">sudo ip route show</pre></div>"
   ]
  },
  {
   "cell_type": "markdown",
   "id": "a31ff36f",
   "metadata": {},
   "source": [
    "* Verify that your VPN is set up correctly by accessing the webserver from __\"pclient2\"__:"
   ]
  },
  {
   "cell_type": "markdown",
   "id": "d2f88607",
   "metadata": {},
   "source": [
    "   <div style=\"background: #f8f8f8; overflow:auto;width:auto;border:solid gray;border-width:.1em .1em .1em .8em;padding:.2em .6em;\"><pre style=\"margin: 0; line-height: 125%;color: black;\">ping 10.20.30.3<br><br>wget https://10.20.30.3 --header \"Host: www.ttm4200.com\" --no-check-certificate</pre></div>"
   ]
  },
  {
   "cell_type": "code",
   "execution_count": null,
   "id": "44fe188f",
   "metadata": {},
   "outputs": [],
   "source": [
    "check_progress.test_1_1()"
   ]
  },
  {
   "cell_type": "markdown",
   "id": "dc952267",
   "metadata": {},
   "source": [
    "## Task 1.2 -- Analyzing VPN\n",
    "\n",
    "* Start packet capturing on the link connected to __\"ether0\"__ on __\"router3\"__ (as the outside party, or \"Trudy\"). Refer back to [Figure 1](#figure_1).\n",
    "\n",
    "\n",
    "* Bring down WireGuard tunnel interface, then bring it up to capture the handshake (in __both__ the server and the client):"
   ]
  },
  {
   "cell_type": "markdown",
   "id": "54d6c3b1",
   "metadata": {},
   "source": [
    "   <div style=\"background: #f8f8f8; overflow:auto;width:auto;border:solid gray;border-width:.1em .1em .1em .8em;padding:.2em .6em;\"><pre style=\"margin: 0; line-height: 125%;color: black;\">sudo wg-quick down /etc/wireguard/wg0.conf<br><br>sudo wg-quick up /etc/wireguard/wg0.conf</pre></div>\n"
   ]
  },
  {
   "cell_type": "markdown",
   "id": "2d75697a",
   "metadata": {},
   "source": [
    "* In __\"pclient2\"__, retrieve the content from the __\"webserver\"__, and then stop packet capturing."
   ]
  },
  {
   "cell_type": "markdown",
   "id": "93e60a0a",
   "metadata": {},
   "source": [
    "   <div style=\"background: #f8f8f8; overflow:auto;width:auto;border:solid gray;border-width:.1em .1em .1em .8em;padding:.2em .6em;\"><pre style=\"margin: 0; line-height: 125%;color: black;\">wget https://10.20.30.3 --header \"Host: www.ttm4200.com\" --no-check-certificate</pre></div>"
   ]
  },
  {
   "cell_type": "markdown",
   "id": "e67140fa",
   "metadata": {},
   "source": [
    "* Dump the capture to a file named \"wireguard_https.pcap\", and copy it to the \"lab10\" directory. \n",
    "* Apply the display filter `wg` in Wireshark to only show WireGuard packets. \n",
    "\n",
    "Then answer the following questions:\n",
    "\n",
    "* Locate the \"Handshake Initiation\" packet, which corresponds to the first message from Initiator (\"pclient2\" in our case) to Responder (\"router0\" in our case). Then answer the following:\n",
    "   * What is the packet number of the \"Handshake Initiation\" packet?\n",
    "   * What is the used transport protocol? \n",
    "   * What is the destination port? \n",
    "   * __Self Check:__ Does the destination port corresponds to the \"ListenPort\" in the WireGuard server?\n",
    "   * How many WireGuard fields are in the \"Handshake Initiation\" packet?\n",
    "   * __Self Check:__ What are these fields? [HINT](https://www.wireguard.com/protocol/#first-message-initiator-to-responder)\n",
    "\n",
    "* Locate the \"Handshake Response\" packet, which corresponds to the second message from Responder to Initiator. \n",
    "   * What is the packet number of the \"Handshake Response\" packet?\n",
    "   * How many WireGuard fields are in the \"Handshake Response\" packet?\n",
    "   * __Self Check:__ What are these fields? \n",
    "\n",
    "\n",
    "* Locate a \"Transport Data\" packet, corresponding to the encapsulated data.\n",
    "   * What is the packet number of the \"Transport Data\" packet?\n",
    "   * How many WireGuard fields are in the \"Transport Data\" packet?\n",
    "   * __Self Check:__ What are these fields? \n",
    "\n",
    "* Locate a \"Keepalive\" message.   \n",
    "   * What is the packet number of a \"Keepalive\" packet?\n",
    "   * How many WireGuard fields are in the \"Keepalive\" packet?\n",
    "   * __Self Check:__ What are these fields?"
   ]
  },
  {
   "cell_type": "code",
   "execution_count": null,
   "id": "0e72dd33",
   "metadata": {},
   "outputs": [],
   "source": [
    "################  Handshake Initiation ########################################\n",
    "# What the packet number of the \"Handshake Initiation\" packet?\n",
    "Handshake_Initiation_packet_number =  # your answer (as integer)\n",
    "\n",
    "#  What is the used transport protocol? \n",
    "wireguard_transport_protocol= # your answer (as string)\n",
    "\n",
    "# What is the destination port? \n",
    "Handshake_Initiation_destination_port= # your answer (as integer)\n",
    "\n",
    "# How many WireGuard fields are in the \"Handshake Initiation\" packet?\n",
    "Handshake_Initiation_num_fields =  # your answer (as integer)\n",
    "\n",
    "\n",
    "################  Handshake Response ########################################\n",
    "# What is the packet number of the \"Handshake Response\" packet?\n",
    "Handshake_Response_packet_number =  # your answer (as integer)\n",
    "\n",
    "# How many WireGuard fields are in the \"Handshake Response\" packet?\n",
    "Handshake_Response_num_fields = # your answer (as integer)\n",
    "\n",
    "\n",
    "################  Transport Data ########################################\n",
    "# What is the packet number of a \"Transport Data\" packet?\n",
    "Transport_Data_packet_number = # your answer (as integer)\n",
    "\n",
    "# How many WireGuard fields are in the \"Transport Data\" packet?\n",
    "Transport_Data_num_fields = # your answer (as integer)\n",
    "\n",
    "\n",
    "################  Keepalive ########################################\n",
    "# What is the packet number of a \"Keepalive\" packet?\n",
    "Keepalive_packet_number = # your answer (as integer)\n",
    "\n",
    "# How many WireGuard fields are in the \"Keepalive\" packet?\n",
    "Keepalive_num_fields = # your answer (as integer)\n",
    "\n",
    "check_progress.test_1_2(Handshake_Initiation_packet_number, \n",
    "                        wireguard_transport_protocol, \n",
    "                        Handshake_Initiation_destination_port,\n",
    "                        Handshake_Initiation_num_fields,\n",
    "                       Handshake_Response_packet_number,\n",
    "                       Handshake_Response_num_fields,\n",
    "                       Transport_Data_packet_number,\n",
    "                       Transport_Data_num_fields,\n",
    "                       Keepalive_packet_number,\n",
    "                       Keepalive_num_fields)"
   ]
  },
  {
   "cell_type": "markdown",
   "id": "c60610ec",
   "metadata": {},
   "source": [
    "  <span style=\"font-size: 25px;\">Q3. </span> __REPORT:__ Which of the following security requirements does WireGuard provide/satisfy in this lab? Briefly explain why?\n",
    "   * Confidentiality?\n",
    "   * Integrity?\n",
    "   * Authentication?\n",
    "   * Forward Secrecy?\n",
    "   * Traffic Type Obfuscation?\n",
    "\n",
    "  <span style=\"font-size: 25px;\">Q4. </span> __REPORT:__ \n",
    "   * What do you think would happen if you use the public IP address (i.e., `wget https://129.168.1.2 --header \"Host: www.ttm4200.com\" --no-check-certificate`) while using VPN? \n",
    "   * What would happen if you also perform port forwarding on \"router0\" (as you did in [section 1.1](#sec:1.1))? \n",
    "   * Finally, what would happen if you set the (“AllowedIPs = 0.0.0.0/0”) in the client (__\"pclient2\"__)?\n",
    "\n",
    "\n",
    "__Optional:__ If you are interested, see how some of your colleagues used WireGuard in their master thesis [Link](https://ntnuopen.ntnu.no/ntnu-xmlui/bitstream/handle/11250/2834784/no.ntnu%3ainspera%3a80310926%3a20549418.pdf?sequence=1&isAllowed=y), [Link](https://ieeexplore.ieee.org/document/9289900).\n",
    "\n",
    "__Extra:__ WireGuard supports optional Pre-shared Symmetric key Mode, which provides sufficient protection for post-quantum cryptography. According to the WireGuard protocol description: \"If an additional layer of symmetric-key crypto is required (for, say, post-quantum resistance), WireGuard also supports an optional pre-shared key that is mixed into the public key cryptography. When the pre-shared key mode is not in use, the pre-shared key value is assumed to be an all-zero string of 32 bytes.\" (ref:<https://www.wireguard.com/protocol/>). Your __task__ is to reconfigure WireGuard with a pre-shared key (use the same setup as before, but include a pre-shared key). Submit a screenshot of your configuration, a screenshot of the output of `sudo wg show`. Briefly explain how using a Pre-shared key augments WireGuard security in case of quantum computing advances.\n",
    "\n",
    "__Optional:__ [Interesting article](https://www.technologyreview.com/2021/11/03/1039171/hackers-quantum-computers-us-homeland-security-cryptography/).\n",
    "\n",
    "\n",
    "# Milestone 2 -- Digital Signature\n",
    "\n",
    "\n",
    "In this milestone, you will apply a digital signature to provide document authentication (verifying that a known sender created the document) and integrity (verifying that the document was unaltered in transit).\n",
    "We will use [Pretty Good Privacy (PGP)](https://en.wikipedia.org/wiki/Pretty_Good_Privacy) protocol for creating and verifying signatures.\n",
    "\n",
    "One common and free implementation of PGP is [GNU Privacy Guard (GPG)](https://en.wikipedia.org/wiki/GNU_Privacy_Guard), also known as [GnuPG](https://gnupg.org/).\n",
    "We will use the command-line tool, which can be installed in your ntnu_server (no need for `docker` and GNS3 in this milestone):"
   ]
  },
  {
   "cell_type": "markdown",
   "id": "1e811214",
   "metadata": {},
   "source": [
    "   <div style=\"background: #f8f8f8; overflow:auto;width:auto;border:solid gray;border-width:.1em .1em .1em .8em;padding:.2em .6em;\"><pre style=\"margin: 0; line-height: 125%;color: black;\">sudo apt install gnupg</pre></div>"
   ]
  },
  {
   "cell_type": "markdown",
   "id": "2f5e2d5e",
   "metadata": {},
   "source": [
    "## Task 2.1 -- Public/Private Keys\n",
    "\n",
    "* Create a PGP public/private key pair with the following command:"
   ]
  },
  {
   "cell_type": "markdown",
   "id": "a85b5b83",
   "metadata": {},
   "source": [
    "   <div style=\"background: #f8f8f8; overflow:auto;width:auto;border:solid gray;border-width:.1em .1em .1em .8em;padding:.2em .6em;\"><pre style=\"margin: 0; line-height: 125%;color: black;\">gpg --gen-key</pre></div>"
   ]
  },
  {
   "cell_type": "markdown",
   "id": "ab45848e",
   "metadata": {},
   "source": [
    "Then enter a name (e.g., your team's name), email address (e.g., one of your emails), and a passphrase to protect your private key (__remember this passphrase!__).\n",
    "By default, it will create an RSA key with 3072 bits.\n",
    "You will use the private key to sign a document, while others can use your public key to verify your signature.\n",
    "\n",
    "* Export your public key as an ASCII file so you can share it with others:"
   ]
  },
  {
   "cell_type": "markdown",
   "id": "f41f477a",
   "metadata": {},
   "source": [
    "\n",
    "   <div style=\"background: #f8f8f8; overflow:auto;width:auto;border:solid gray;border-width:.1em .1em .1em .8em;padding:.2em .6em;\"><pre style=\"margin: 0; line-height: 125%;color: black;\">gpg --export  youremail > teamName_public.key</pre></div>"
   ]
  },
  {
   "cell_type": "markdown",
   "id": "c7b46867",
   "metadata": {},
   "source": [
    "* Import and trust others' public keys.\n",
    "A public key belongs to this course at lab10 directory (\"~/lab10/pgp/ttm4200_pubkey.asc\"). \n",
    "You should import it, and trust it:"
   ]
  },
  {
   "cell_type": "markdown",
   "id": "2cbf5440",
   "metadata": {},
   "source": [
    "   <div style=\"background: #f8f8f8; overflow:auto;width:auto;border:solid gray;border-width:.1em .1em .1em .8em;padding:.2em .6em;\"><pre style=\"margin: 0; line-height: 125%;color: black;\">gpg --import ttm4200_pubkey.asc<br><br>gpg --edit-key ttm4200<br><br>trust<br>5<br>y<br>quit</pre></div>\n"
   ]
  },
  {
   "cell_type": "markdown",
   "id": "532a3513",
   "metadata": {},
   "source": [
    "## Task 2.2 -- Verifying Digital Signature\n",
    "\n",
    "<span style=\"font-size: 25px;\">Q5. </span> __REPORT:__ There is a pdf document at \"&#126;/lab10/pgp/verify_me.pdf\" that was digitally signed with the private key of ttm4200, where the signature file is at \"&#126;/lab10/pgp/verify_me.pdf.sig\". Verify the document's signature, then explain how this verification proves (or does not prove) the document's __integrity__ and __authenticity__.\n",
    "\n",
    "<div class=\"alert alert-block alert-info\">\n",
    "<b>Hint:</b> Assume the public-key hasn't been tampered with. Check out this <a href=\"https://www.gnupg.org/gph/en/manual/x135.html\" target=\"_blank\">link</a>. </div>\n",
    "\n",
    "\n",
    "## Task 2.3 -- Creating Digital Signature & Encryption\n",
    "\n",
    "<span style=\"font-size: 25px;\">Q6. </span> __REPORT:__ Explain how you can encrypt your report such that only the owner of the private key of ttm4200 can read the encryption (i.e., [how PGP encryption works?](https://en.wikipedia.org/wiki/Pretty_Good_Privacy#/media/File:PGP_diagram.svg)). Then (when you finish writing the delivery report), digitally sign your report (__detached signature__), and encrypt your report such that only the owner of the private key of ttm4200 can read the encryption. Submit the following files:\n",
    "\n",
    "* Your report (unencrypted version).\n",
    "\n",
    "* Your public key.\n",
    "\n",
    "* The signature file.\n",
    "\n",
    "* The encrypted report."
   ]
  }
 ],
 "metadata": {
  "language_info": {
   "name": "python"
  }
 },
 "nbformat": 4,
 "nbformat_minor": 5
}
