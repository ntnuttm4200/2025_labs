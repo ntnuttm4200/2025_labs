{
 "cells": [
  {
   "cell_type": "markdown",
   "id": "a1ed6692",
   "metadata": {},
   "source": [
    "# Lab 8 -- Network Layer (Control Plane)\n",
    "\n",
    "## Introduction\n",
    "\n",
    "This lab aims to introduce you to network addressing and routing.\n",
    "In particular, you will set up and analyze a routing protocol.\n",
    "\n",
    "For the second delivery (transport and network layer labs) submit a PDF report where you answer **only** those questions marked with a **REPORT**."
   ]
  },
  {
   "cell_type": "markdown",
   "id": "590021b9",
   "metadata": {},
   "source": [
    "## Lab Setup\n",
    "\n",
    "[Figure 1](#figure_1) shows the setup for this lab. \n",
    "In this lab you will be using the same topology and GNS3 project as in lab 7. The main task of this lab is to configure a routing protocol in the routers to have full connectivity between the networks.\n",
    "\n",
    "\n",
    "\n",
    "<a id='figure_1'></a>\n",
    "\n",
    "|<img src=\"figures/lab7.png\" />|\n",
    "|:--:| \n",
    "| *Figure 1: Lab8 Setup* |\n",
    "\n",
    "- **Check the port forwarding and GNS3-Client configuration** and, if needed, refer back to the descriptions of lab7 to configure the enable port forwarding and GNS3.\n",
    "\n",
    "- **Check the version of GNS3-Client and Server** and if the numbers don't match, take a look at \"Update GNS3-Server\" description in lab7.\n",
    "\n",
    "- **Open GNS3 on Sahara PC**, and import the `lab7.gns3project` as a portable project and start all devices. Make sure not to open the local copy, but navigate to __File -> Import portable project__.\n",
    "\n",
    "- **The servers** are already configured, so you don't need to do anything with them. \n",
    "\n",
    "  <div class=\"alert alert-block alert-info\">\n",
    "  <b>Tip:</b> To copy files between the local machine (Sahara PC) and the \"ntnu_server\", you can use the <code style=\"color: black;\"> scp &lt;server_ip_or_name&gt;:&lt;remote_file_path&gt; &lt;local_path&gt;</code> command on your local machine. E.g. <code style=\"color: black;\">scp ntnu_server:~/labs/lab7/lab7.gns3project ~/.</code> to download the GNS3 project file.\n",
    "  </div>\n",
    "\n",
    "  <div class=\"alert alert-block alert-info\">\n",
    "  <b>Tip:</b> To copy files from the containers to the \"ntnu_server\", you can use the <code style=\"color: black;\">sudo cp \"$(sudo find /opt/gns3/projects -name filename)\" .</code> command in \"ntnu_server\". Change \"filename\" to the name of your file.\n",
    "  </div>"
   ]
  },
  {
   "cell_type": "code",
   "execution_count": null,
   "id": "58bdafe0",
   "metadata": {},
   "outputs": [],
   "source": [
    "from test_lab8 import TestLab8\n",
    "check_progress = TestLab8()"
   ]
  },
  {
   "cell_type": "markdown",
   "id": "35527885",
   "metadata": {},
   "source": [
    "# Milestone 1 -- Network Addressing and Routing\n",
    "\n",
    "## Background\n",
    "\n",
    "In this milestone, you will learn how to set up a routing protocol. \n",
    "The IP addresses have already been set for simplicity, but the routers only know the directly connected networks. \n",
    "Thus they can not forward packets to non-directly connected networks.\n",
    "\n",
    "- From GNS3 (with double-click or _Console_), check the routing table in the routers (__router0__, __router1__, __router2__, and __router3__) and try to understand every line in the output based on [figure 1](#figure_1)."
   ]
  },
  {
   "cell_type": "markdown",
   "id": "b5289b6e",
   "metadata": {},
   "source": [
    "\n",
    "<div style=\"background: #f8f8f8; overflow:auto;width:auto;border:solid gray;border-width:.1em .1em .1em .8em;padding:.2em .6em;\"><pre style=\"margin: 0; line-height: 125%;color: black;\"> ip route show \n",
    "</pre></div>\n"
   ]
  },
  {
   "cell_type": "markdown",
   "id": "1c9f4217",
   "metadata": {},
   "source": [
    "<div class=\"alert alert-block alert-info\">\n",
    "<b>Note:</b> If you are connecting to the containers with <code style=\"color: black;\">docker attach</code>, do not forget to detach with <code style=\"color: black;\">Ctrl+p</code> and <code style=\"color: black;\">Ctrl+q</code>.\n",
    "If you type <code style=\"color: black;\">exit</code>, you will stop (\"kill\") the container. </div>\n",
    "\n",
    "- You can try pinging the Webserver from __\"router1\"__ container. Do you get any response?"
   ]
  },
  {
   "cell_type": "markdown",
   "id": "8e33dffa",
   "metadata": {},
   "source": [
    "\n",
    "<div style=\"background: #f8f8f8; overflow:auto;width:auto;border:solid gray;border-width:.1em .1em .1em .8em;padding:.2em .6em;\"><pre style=\"margin: 0; line-height: 125%;color: black;\">\n",
    "ping 129.100.1.3\n",
    "</pre></div>"
   ]
  },
  {
   "cell_type": "markdown",
   "id": "26e744b6",
   "metadata": {},
   "source": [
    "To have connectivity, you need to update the routing tables with the correct paths to forward packets. \n",
    "You can do this using either static or dynamic routing:\n",
    "\n",
    "- In static routing, you manually enter routes in the routing table, but this can be a daunting task, especially in larger networks. This has been done with the `router_setup.py` in the previous lab. \n",
    "\n",
    "- In dynamic routing, you configure a routing protocol instructing routers to exchange information with other routers, then automatically learn routes and update the routing table.\n",
    "  - In distance-vector protocols (RIP, EIGRP, BGP ... etc.), routers describe available paths (i.e., routes) to their neighbors.\n",
    "  - In link-state protocols (OSPF, IS-IS, ... etc.), routers describe the state of their links to all other routers.\n",
    "    \n",
    "In this lab, we will use OSPF as an example, but using any other routing protocol is straightforward. [OSPF](https://en.wikipedia.org/wiki/Open_Shortest_Path_First) is a link-state routing protocol in which routers describe their link-state in a message called link-state advertisement (LSA). \n",
    "Then each router constructs a topology map of the network and calculates the shortest path using [Dijkstra's algorithm](https://en.wikipedia.org/wiki/Dijkstra%27s_algorithm)\n",
    "\n",
    "One open-source routing software is [Free Range Routing(FRR)](https://frrouting.org/). FRR uses the Linux kernel’s routing stack for packet forwarding and implements the most commonly used protocols, such as OSPF, RIP, BGP, IS-IS, and IGRP. FRR is already installed on the routers, and the OSPF daemon is enabled by default.\n",
    "\n",
    "\n",
    "## Task 1.1 -- Configure OSPF on router0\n",
    "\n",
    "A nice feature of FRR is that it provides an interactive shell (`vtysh`) with CLI similar to Cisco IOS commands. There are different [modes](https://www.cisco.com/E-Learning/bulk/public/tac/cim/cib/using_cisco_ios_software/02_cisco_ios_hierarchy.htm) to the CLI, and certain commands are only available within a specific mode. Here is an example of how to configure OSPF on **\"router0\"**:\n",
    "\n",
    "\n",
    "* Start the CLI by running <code>vtysh</code>. This will take you to the __EXEC mode__ (notice the change in the prompt).\n",
    "* Check FRR routing table: <code>show ip route</code>. You will see only directly connected routes.\n",
    "\n",
    "* Enter the __configuration mode__: <code>configure terminal</code> (notice the change in the prompt). This will allow you to modify the running system configuration.\n",
    "\n",
    "* Enable OSPF routing protocol: <code>router ospf</code> (notice the change in the prompt). This will take you to  __routing configuration mode__.\n",
    "\n",
    "* Tell OSPF which interfaces to include in its link-state advertisement (LSA). \n",
    "You only need to specify the network address, then OSPF checks which interfaces are part of this network and include them in its LSA.\n",
    "Additionally, you need to specify the area:\n",
    "\n",
    "  <div style=\"background: #f8f8f8; overflow:auto;width:auto;border:solid gray;border-width:.1em .1em .1em .8em;padding:.2em .6em;\"><pre style=\"margin: 0; line-height: 125%;color: black;\"><span style=\"color: #408080; font-style: italic\">#   On the &quot;router0&quot; container:</span><br>network 129.100.1.0/29 area 0 <span style=\"color: #408080; font-style: italic\"># ttm4200_public_net</span><br>network 129.168.1.24/29 area 0  <span style=\"color: #408080; font-style: italic\"># link3</span><br>network 129.168.1.0/29 area 0 <span style=\"color: #408080; font-style: italic\"># link0</span>\n",
    "</pre></div>\n",
    "\n",
    "  <div class=\"alert alert-block alert-info\">\n",
    "    <b>Note:</b> OSPF divides the network into routing areas to simplify administration and optimize traffic and resource utilization. For simplicity, you only use one area in this lab.\n",
    "  </div>"
   ]
  },
  {
   "cell_type": "markdown",
   "id": "b51ad230",
   "metadata": {},
   "source": [
    "    \n",
    "* Exit __configuration mode__ by entering `end` or `CTRL+Z`. This will bring you back to the __EXEC mode__. Enter `exit` if you want to return to the Linux terminal.\n",
    "\n",
    "* Check the current configuration from the CLI with <code>show running-config</code>.\n",
    "\n",
    "<div class=\"alert alert-block alert-info\">\n",
    "<b>Tip:</b> In order to save certain configurations on the containers when using GNS3, you <b>need</b> to run the save script provided in the home directory (<b>~</b>). Use <code style=\"color: black;\">./save.sh</code> to run it. This will save any <b>nft</b> and <b>vtysh</b> configuration. If you relaunch the GNS3 project without saving, these configurations <b>will be lost</b>. Have a look at the script to understand how to save such configurations.\n",
    "</div>\n",
    "\n",
    "<div class=\"alert alert-block alert-warning\">\n",
    "  <b>Warning:</b> When you import a GNS3 project again (i.e., after making changes and saving configurations), your previous modifications are lost because importing a project extracts a <b>fresh copy</b> from the archive, <b>discarding any changes</b> you made. Therefore, after making changes, always click <i>File -> Save Project</i> in GNS3. Then, you can open the saved version with <i>File -> Open Project</i>.\n",
    "</div>\n",
    "\n",
    "## Task 1.2 -- Configure OSPF on other routers\n",
    "\n",
    "Your task now is to configure OSPF on __\"router1\"__, __\"router2\"__, and __\"router3\"__. However, **do not** include the private networks (10.20.40.0/24, 10.20.50.0/24) in the link-state advertisement.\n",
    "\n",
    "\n",
    "<div class=\"alert alert-block alert-info\">\n",
    "<b>Tip:</b> If you by mistake included the private networks in the link-state advertisement, you could delete them by using, for example, <code style=\"color: black;\">no network 10.20.40.0/24 area 0</code> in the <b>routing configuration mode</b>. </div>\n",
    "\n",
    "   \n",
    "* Ping the Webserver from __\"router1\"__ container and ensure you can connect to it."
   ]
  },
  {
   "cell_type": "code",
   "execution_count": null,
   "id": "d175d6c6",
   "metadata": {},
   "outputs": [],
   "source": [
    "check_progress.test_1_1()"
   ]
  },
  {
   "cell_type": "markdown",
   "id": "2446ca5f",
   "metadata": {},
   "source": [
    "## Task 1.3 -- Route-Costs\n",
    "\n",
    "\n",
    "* In __\"router1\"__, start CLI and check the FRR routing table:"
   ]
  },
  {
   "cell_type": "markdown",
   "id": "36dd44e3",
   "metadata": {},
   "source": [
    "  <div style=\"background: #f8f8f8; overflow:auto;width:auto;border:solid gray;border-width:.1em .1em .1em .8em;padding:.2em .6em;\"><pre style=\"margin: 0; line-height: 125%; color: black;\">\n",
    "  vtysh \n",
    "  show ip route\n",
    "</pre></div>"
   ]
  },
  {
   "cell_type": "markdown",
   "id": "a2c9a7d1",
   "metadata": {},
   "source": [
    "* Check the route towards 129.100.1.0/29, and answer the following:\n",
    "  * Via which interface does the route pass?\n",
    "  * What is the route cost?"
   ]
  },
  {
   "cell_type": "code",
   "execution_count": null,
   "id": "2c512625",
   "metadata": {},
   "outputs": [],
   "source": [
    "# Via which interface does the route pass?\n",
    "route_interface =  #your answer as a string: \"ether1\" or \"ether2\"\n",
    "\n",
    "# What is the route cost?\n",
    "route_cost =  # You answer as integer\n",
    "\n",
    "check_progress.test_1_2(route_interface, route_cost)"
   ]
  },
  {
   "cell_type": "markdown",
   "id": "9c6695a4",
   "metadata": {},
   "source": [
    "<div class=\"alert alert-block alert-info\">\n",
    "<b>Hint:</b> We set the Individual link cost to 100. FRR displays the information Administrative distance/Route Cost in each entry of its routing table. \n",
    "The <a href=\"https://docs.frrouting.org/en/latest/zebra.html#administrative-distance\" target=\"_blank\">administrative distance</a> allows FRR to decide what routes should be installed in the Linux kernel based upon the originating protocol. \n",
    "OSPF has an administrative distance of 110. </div>\n",
    "\n"
   ]
  },
  {
   "cell_type": "markdown",
   "id": "593733fb",
   "metadata": {},
   "source": [
    "## Task 1.4 -- Link Failure\n",
    "\n",
    "* In __\"router0\"__, bring down the interface \"ether2\":"
   ]
  },
  {
   "cell_type": "markdown",
   "id": "e92310a6",
   "metadata": {},
   "source": [
    "\n",
    "<div style=\"background: #f8f8f8; overflow:auto;width:auto;border:solid gray;border-width:.1em .1em .1em .8em;padding:.2em .6em;\"><pre style=\"margin: 0; line-height: 125%; color: black;\">\n",
    "  sudo ip link set ether2 down \n",
    "</pre></div>\n"
   ]
  },
  {
   "cell_type": "markdown",
   "id": "f69178cf",
   "metadata": {},
   "source": [
    "* In __\"router1\"__, re-check the FRR routing table again and focus on the route towards 129.100.1.0/29, then answer the following:    \n",
    "  * Via which interface does the route pass after the link failure?\n",
    "  * What is the route cost after the link failure?"
   ]
  },
  {
   "cell_type": "code",
   "execution_count": null,
   "id": "0c1481b4",
   "metadata": {},
   "outputs": [],
   "source": [
    "# Via which interface does the route pass after the link failure?\n",
    "route_interface_after_link_failure =  #your answer as a string: \"ether1\" or \"ether2\"\n",
    "\n",
    "# What is the route cost after the link failure?\n",
    "route_cost_after_link_failure =  # Your answer as integer\n",
    "\n",
    "check_progress.test_1_3(route_interface_after_link_failure, route_cost_after_link_failure)"
   ]
  },
  {
   "cell_type": "markdown",
   "id": "b42d5ecb",
   "metadata": {},
   "source": [
    "<span style=\"font-size: 25px;\">Q1. </span> **REPORT:** Based on [Figure 1](#figure_1), describe how routers detect and propagate link states through the network to build a link state database and how Dijkstra’s algorithm calculates the shortest path using this database. Then explain how the shortest path is re-calculated in case of a link failure. You can show this by highlighting the Hello and LS Update/Acknowledgement packets in screenshots from Wireshark.\n",
    "\n",
    "\n",
    "<div class=\"alert alert-block alert-info\">\n",
    "<b>Hint:</b>  All OSPF routers store information about the network topology in a Link-State Database (LSDB). Hello OSPF packets are used to test reachability between neighbours, while OSPF uses Link State Advertisements (LSAs) to describe the network topology. To answer the question above, you can, for example, in \"router0\" bring up the interface \"ether2\". Then, you can start the packet capture on links between different routers, bring down and up one of the links, and observe and inspect the packets in Wireshark. You can use this command to bring down/up a link <code style=\"color: black;\">sudo ip link set [interface_name] down/up</code>. </div>\n",
    "\n",
    "<div class=\"alert alert-block alert-info\">\n",
    "<b>Note:</b> If the Wireshark window fails to appear when you \"<i>Start capture</i>\" in GNS3, locate <i>Edit -> Preferences -> Packet capture</i>. Under <i>Packet capture reader command</i> delete <b>--capture-comment \"{project} {link_description}\"</b>. Then stop and start the capture again. </div>\n",
    "\n",
    "\n",
    "## Optional Task 1.5 -- Another Routing Protocol\n",
    "\n",
    "* Configure other routing protocols, such as RIP, EIGRP, IS-IS, or BGP. For example, to configure RIP on \"router0\":\n",
    "  *  Enable the RIP daemon in \"/etc/frr/daemons\" by replacing \"ripd=no\" to \"ripd=yes\". Since OSPF has a lower administrative distance than RIP, you need to disable it. Otherwise, OSPF routes will take precedence.\n",
    "  * Restart FRR: <code>sudo service frr restart</code>.\n",
    "  * Configure RIP using the CLI:"
   ]
  },
  {
   "cell_type": "markdown",
   "id": "0b4b89d5",
   "metadata": {},
   "source": [
    "\n",
    "<div style=\"background: #f8f8f8; overflow:auto;width:auto;border:solid gray;border-width:.1em .1em .1em .8em;padding:.2em .6em;\"><pre style=\"margin: 0; line-height: 125%;color: black;\"><span style=\"color: #408080; font-style: italic\">#   On the &quot;router0&quot; container:</span>\n",
    "vtysh\n",
    "configure terminal\n",
    "router rip\n",
    "network 129.100.1.0/29\n",
    "network 129.168.1.24/29\n",
    "network 129.168.1.0/29\n",
    "end\n",
    "exit\n",
    "</pre></div>\n"
   ]
  }
 ],
 "metadata": {
  "kernelspec": {
   "display_name": "Python 3 (ipykernel)",
   "language": "python",
   "name": "python3"
  },
  "language_info": {
   "codemirror_mode": {
    "name": "ipython",
    "version": 3
   },
   "file_extension": ".py",
   "mimetype": "text/x-python",
   "name": "python",
   "nbconvert_exporter": "python",
   "pygments_lexer": "ipython3",
   "version": "3.10.12"
  }
 },
 "nbformat": 4,
 "nbformat_minor": 5
}
